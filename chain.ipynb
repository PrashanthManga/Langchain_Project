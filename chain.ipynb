{
 "cells": [
  {
   "cell_type": "code",
   "execution_count": 14,
   "id": "300a1cd6",
   "metadata": {},
   "outputs": [],
   "source": [
    "\n",
    "from secert_key import openai_key\n",
    "import os\n",
    "os.environ['OPENAI_API_KEY'] = openai_key"
   ]
  },
  {
   "cell_type": "code",
   "execution_count": null,
   "id": "6b9d2fd9",
   "metadata": {},
   "outputs": [
    {
     "name": "stdout",
     "output_type": "stream",
     "text": [
      "\n",
      "\"Bella Cucina\" \n"
     ]
    }
   ],
   "source": [
    "from langchain.llms import OpenAI\n",
    "\n",
    "llm = OpenAI(temperature=0.6)\n",
    "name = llm(\"I want to open a restaurant for Italian food. suggest a fancy name for this.\")\n",
    "print(name)\n"
   ]
  },
  {
   "cell_type": "markdown",
   "id": "b232ad52",
   "metadata": {},
   "source": []
  },
  {
   "cell_type": "code",
   "execution_count": null,
   "id": "0c5b835d",
   "metadata": {},
   "outputs": [
    {
     "data": {
      "text/plain": [
       "'I want to open a resturant for Italian food. suggest a fancy name for this.'"
      ]
     },
     "execution_count": 18,
     "metadata": {},
     "output_type": "execute_result"
    }
   ],
   "source": [
    "from langchain.prompts import PromptTemplate\n",
    "\n",
    "prompt_template_name = PromptTemplate(\n",
    "  input_variables = ['cuisine'],\n",
    "  template = \"I want to open a restaurant for {cuisine} food. suggest a fancy name for this.\"\n",
    "\n",
    ")\n",
    "\n",
    "prompt_template_name.format(cuisine='Italian')"
   ]
  },
  {
   "cell_type": "code",
   "execution_count": 19,
   "id": "18e1bfa9",
   "metadata": {},
   "outputs": [
    {
     "name": "stderr",
     "output_type": "stream",
     "text": [
      "/var/folders/q7/zrddzvx10wb5xjnpmdq8m2mr0000gp/T/ipykernel_33536/723744833.py:3: LangChainDeprecationWarning: The class `LLMChain` was deprecated in LangChain 0.1.17 and will be removed in 1.0. Use :meth:`~RunnableSequence, e.g., `prompt | llm`` instead.\n",
      "  chain = LLMChain(llm=llm, prompt=prompt_template_name)\n",
      "/var/folders/q7/zrddzvx10wb5xjnpmdq8m2mr0000gp/T/ipykernel_33536/723744833.py:4: LangChainDeprecationWarning: The method `Chain.run` was deprecated in langchain 0.1.0 and will be removed in 1.0. Use :meth:`~invoke` instead.\n",
      "  chain.run(\"Mexican\")\n"
     ]
    },
    {
     "data": {
      "text/plain": [
       "'\\n\\n\"La Cantina de Oro\" (The Golden Cantina)'"
      ]
     },
     "execution_count": 19,
     "metadata": {},
     "output_type": "execute_result"
    }
   ],
   "source": [
    "from langchain.chains import LLMChain\n",
    "\n",
    "chain = LLMChain(llm=llm, prompt=prompt_template_name)\n",
    "chain.run(\"Mexican\")"
   ]
  },
  {
   "cell_type": "code",
   "execution_count": null,
   "id": "c0a60272",
   "metadata": {},
   "outputs": [],
   "source": [
    "llm = OpenAI(temperature=0.6)\n",
    "\n",
    "prompt_template_name = PromptTemplate(\n",
    "  input_variables = ['cuisine'],\n",
    "  template = \"I want to open a restaurant for {cuisine} food. suggest a fancy name for this.\"\n",
    "\n",
    ")\n",
    "\n",
    "name_chain = LLMChain(llm=llm, prompt=prompt_template_name)\n",
    "\n",
    "prompt_template_items = PromptTemplate(\n",
    "    input_variables = ['restaurant_name'],\n",
    "    template = \" suggest some menu items for {restaurant_name}. Return it as a comma seperated list\"\n",
    ")\n",
    "\n",
    "food_items_chain = LLMChain(llm=llm, prompt=prompt_template_items)\n",
    "\n",
    "\n",
    "\n"
   ]
  },
  {
   "cell_type": "code",
   "execution_count": 25,
   "id": "5f0a7480",
   "metadata": {},
   "outputs": [
    {
     "name": "stdout",
     "output_type": "stream",
     "text": [
      "\n",
      "\n",
      "1. Enchiladas de pollo, \n",
      "2. Carne asada tacos, \n",
      "3. Quesadillas de queso, \n",
      "4. Burrito de carne molida, \n",
      "5. Fajitas mixtas, \n",
      "6. Tamales de cerdo, \n",
      "7. Sopa de tortilla, \n",
      "8. Camarones al ajillo, \n",
      "9. Chiles rellenos, \n",
      "10. Flautas de res.\n"
     ]
    }
   ],
   "source": [
    "from langchain.chains import SimpleSequentialChain\n",
    "\n",
    "chain = SimpleSequentialChain(chains = [name_chain, food_items_chain])\n",
    "response = chain.run(\"mexican\")\n",
    "print(response)"
   ]
  },
  {
   "cell_type": "code",
   "execution_count": null,
   "id": "090f5cb1",
   "metadata": {},
   "outputs": [],
   "source": [
    "llm = OpenAI(temperature=0.7)\n",
    "\n",
    "prompt_template_name = PromptTemplate(\n",
    "  input_variables = ['cuisine'],\n",
    "  template = \"I want to open a restaurant for {cuisine} food. suggest a fancy name for this.\"\n",
    "\n",
    ")\n",
    "\n",
    "name_chain = LLMChain(llm=llm, prompt=prompt_template_name, output_key=\"restaurant_name\")\n",
    "\n",
    "llm = OpenAI(temperature=0.7)\n",
    "\n",
    "prompt_template_items = PromptTemplate(\n",
    "    input_variables = ['restaurant_name'],\n",
    "    template = \" suggest some menu items for {restaurant_name}.\"\n",
    ")\n",
    "\n",
    "food_items_chain = LLMChain(llm=llm, prompt=prompt_template_items, output_key=\"menu_items\")\n",
    "\n"
   ]
  },
  {
   "cell_type": "code",
   "execution_count": null,
   "id": "188f2386",
   "metadata": {},
   "outputs": [
    {
     "name": "stderr",
     "output_type": "stream",
     "text": [
      "/var/folders/q7/zrddzvx10wb5xjnpmdq8m2mr0000gp/T/ipykernel_33536/1257290917.py:9: LangChainDeprecationWarning: The method `Chain.__call__` was deprecated in langchain 0.1.0 and will be removed in 1.0. Use :meth:`~invoke` instead.\n",
      "  chain({'cuisine': 'Arabic'})\n"
     ]
    },
    {
     "data": {
      "text/plain": [
       "{'cuisine': 'Arabic',\n",
       " 'resturant_name': '\\n\\n\"Alhambra\\'s Feast\"',\n",
       " 'menu_items': ' \\n\\n1. Moroccan Chicken Tagine - Tender chicken stewed with aromatic spices, apricots, and chickpeas, served over couscous.\\n2. Lamb Kebabs - Grilled marinated lamb skewers served with a side of tzatziki sauce and pita bread.\\n3. Veggie Mezze Platter - A selection of traditional Mediterranean dips and spreads, such as hummus, baba ghanoush, and tzatziki, served with pita bread and fresh vegetables.\\n4. Paella Valenciana - A Spanish rice dish with a variety of seafood, chicken, and chorizo, cooked with saffron and other fragrant spices.\\n5. Falafel Platter - Crispy chickpea fritters served with tahini sauce, tabbouleh salad, and pita bread.\\n6. Beef Shawarma - Thinly sliced spiced beef wrapped in warm pita bread with fresh vegetables and a tangy tahini sauce.\\n7. Grilled Halloumi Salad - Grilled halloumi cheese served over a bed of mixed greens, with cherry tomatoes, cucumbers, and a lemon herb vinaigrette.\\n8. Spanakopita - A savory Greek pastry filled with spinach'}"
      ]
     },
     "execution_count": 31,
     "metadata": {},
     "output_type": "execute_result"
    }
   ],
   "source": [
    "from langchain.chains import SequentialChain\n",
    "\n",
    "chain = SequentialChain(\n",
    "    chains = [name_chain, food_items_chain],\n",
    "    input_variables = ['cuisine'],\n",
    "    output_variables = ['restaurant_name', 'menu_items']\n",
    ")\n",
    "\n",
    "chain({'cuisine': 'Arabic'})"
   ]
  }
 ],
 "metadata": {
  "kernelspec": {
   "display_name": "Python 3",
   "language": "python",
   "name": "python3"
  },
  "language_info": {
   "codemirror_mode": {
    "name": "ipython",
    "version": 3
   },
   "file_extension": ".py",
   "mimetype": "text/x-python",
   "name": "python",
   "nbconvert_exporter": "python",
   "pygments_lexer": "ipython3",
   "version": "3.13.3"
  }
 },
 "nbformat": 4,
 "nbformat_minor": 5
}
